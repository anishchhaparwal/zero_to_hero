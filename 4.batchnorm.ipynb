{
 "cells": [
  {
   "cell_type": "code",
   "execution_count": 1,
   "metadata": {},
   "outputs": [],
   "source": [
    "import torch\n",
    "import torch.nn.functional as F\n",
    "import matplotlib.pyplot as plt\n",
    "%matplotlib inline\n",
    "\n",
    "words = open('names.txt', 'r').read().splitlines()\n",
    "chars = sorted(list(set(\"\".join(words))))\n",
    "stoi  = {s:i+1 for i, s in enumerate(chars)}\n",
    "stoi['.'] = 0\n",
    "itos  = {i:s for s,i in stoi.items()}\n",
    "vocal_size = len(itos)"
   ]
  },
  {
   "cell_type": "code",
   "execution_count": 2,
   "metadata": {},
   "outputs": [
    {
     "name": "stdout",
     "output_type": "stream",
     "text": [
      "torch.Size([182625, 3]) torch.Size([182625]) torch.Size([22655, 3]) torch.Size([22655]) torch.Size([22866, 3]) torch.Size([22866])\n"
     ]
    }
   ],
   "source": [
    "# building dataset\n",
    "\n",
    "block_size =3\n",
    "\n",
    "def build_dataset(words, block_size=3):\n",
    "    X , Y = [], []\n",
    "    for w in words:\n",
    "        context = [0] * block_size\n",
    "        for ch in w + '.':\n",
    "            X.append(context)\n",
    "            Y.append(stoi[ch])\n",
    "            # print(f\"{''.join([itos[i] for i in context])} -> {ch}\") \n",
    "\n",
    "            context = context[1:] + [stoi[ch]]\n",
    "    return torch.tensor(X), torch.tensor(Y)\n",
    "\n",
    "import random\n",
    "random.seed(42)\n",
    "random.shuffle(words)\n",
    "\n",
    "n1 = int(len(words) * 0.8)\n",
    "n2 = int(len(words) * 0.9)\n",
    "\n",
    "Xtr, Ytr = build_dataset(words[:n1], block_size=3)\n",
    "Xdv, Ydv = build_dataset(words[n1:n2], block_size=3)\n",
    "Xte, Yte = build_dataset(words[n2:], block_size=3)\n",
    "\n",
    "print(Xtr.shape, Ytr.shape, Xdv.shape, Ydv.shape, Xte.shape, Yte.shape)"
   ]
  },
  {
   "cell_type": "code",
   "execution_count": 5,
   "metadata": {},
   "outputs": [
    {
     "name": "stdout",
     "output_type": "stream",
     "text": [
      "3481\n"
     ]
    }
   ],
   "source": [
    "# building MLP with rand initialization\n",
    "\n",
    "n_embd = 2\n",
    "n_hidden = 100\n",
    "\n",
    "g = torch.Generator().manual_seed(2147483647)\n",
    "C = torch.randn(vocal_size, n_embd ,                    generator=g)\n",
    "W1 = torch.randn((block_size * n_embd, n_hidden),       generator=g)\n",
    "B1 = torch.randn(n_hidden,                              generator=g)\n",
    "W2 = torch.randn((n_hidden, vocal_size),                generator=g)\n",
    "B2 = torch.randn(vocal_size,                            generator=g)\n",
    "\n",
    "parameters = [C, W1, B1, W2, B2]\n",
    "\n",
    "for p in parameters:\n",
    "    p.requires_grad_()\n",
    "\n",
    "print(sum(p.nelement() for p in parameters))"
   ]
  },
  {
   "cell_type": "code",
   "execution_count": 6,
   "metadata": {},
   "outputs": [
    {
     "name": "stdout",
     "output_type": "stream",
     "text": [
      "      0/ 200000:  18.2182\n",
      "  10000/ 200000:  2.9901\n",
      "  20000/ 200000:  2.3805\n",
      "  30000/ 200000:  2.7608\n",
      "  40000/ 200000:  2.3949\n",
      "  50000/ 200000:  2.2300\n",
      "  60000/ 200000:  2.8805\n",
      "  70000/ 200000:  2.3401\n",
      "  80000/ 200000:  2.0514\n",
      "  90000/ 200000:  2.4229\n",
      " 100000/ 200000:  2.3707\n",
      " 110000/ 200000:  2.3916\n",
      " 120000/ 200000:  2.0378\n",
      " 130000/ 200000:  2.2661\n",
      " 140000/ 200000:  2.2305\n",
      " 150000/ 200000:  2.3041\n",
      " 160000/ 200000:  2.3768\n",
      " 170000/ 200000:  2.1656\n",
      " 180000/ 200000:  2.1754\n",
      " 190000/ 200000:  2.0359\n"
     ]
    }
   ],
   "source": [
    "batch_size = 32\n",
    "steps = 200000\n",
    "lossi = []\n",
    "\n",
    "for i in range(steps):\n",
    "    \n",
    "    ix = torch.randint(0, Xtr.shape[0], (batch_size,), generator=g)\n",
    "    x = Xtr[ix]\n",
    "    y = Ytr[ix]\n",
    "    \n",
    "    # forward pass\n",
    "    x_emb = C[x]\n",
    "    h1 = x_emb.view(x_emb.shape[0],-1) @ W1 + B1\n",
    "    h = torch.tanh(h1)\n",
    "    logits = h @ W2 + B2\n",
    "    loss = F.cross_entropy(logits, y)\n",
    "    \n",
    "    # backward pass\n",
    "    for p in parameters:\n",
    "        p.grad = None\n",
    "    loss.backward()\n",
    "    \n",
    "    # gradient descent\n",
    "    lr = 0.1 if i < 100000 else 0.01\n",
    "    for p in parameters:\n",
    "        p.data += -lr * p.grad\n",
    "        \n",
    "    # stats\n",
    "    lossi.append(loss.log10().item())\n",
    "    if i % 10000 == 0:\n",
    "        print(f\"{i:7d}/{steps:7d}:  {loss.item():.4f}\")\n",
    "        "
   ]
  },
  {
   "cell_type": "code",
   "execution_count": 7,
   "metadata": {},
   "outputs": [
    {
     "data": {
      "text/plain": [
       "[<matplotlib.lines.Line2D at 0x7fbd121f4a50>]"
      ]
     },
     "execution_count": 7,
     "metadata": {},
     "output_type": "execute_result"
    },
    {
     "data": {
      "image/png": "[encoded data removed]",
      "text/plain": [
       "<Figure size 640x480 with 1 Axes>"
      ]
     },
     "metadata": {},
     "output_type": "display_data"
    }
   ],
   "source": [
    "plt.plot(lossi)"
   ]
  },
  {
   "cell_type": "code",
   "execution_count": 8,
   "metadata": {},
   "outputs": [
    {
     "name": "stdout",
     "output_type": "stream",
     "text": [
      "train loss: 2.2517\n",
      "dev loss: 2.2551\n"
     ]
    }
   ],
   "source": [
    "torch.no_grad()\n",
    "def print_overall_loss(split):\n",
    "    x , y = {'train':(Xtr, Ytr), 'dev':(Xdv, Ydv), 'test':(Xte, Yte)}[split]\n",
    "    x_emb = C[x]\n",
    "    h1 = x_emb.view(x_emb.shape[0],-1) @ W1 + B1\n",
    "    h = torch.tanh(h1)\n",
    "    logits = h @ W2 + B2\n",
    "    loss = F.cross_entropy(logits, y)\n",
    "    print(f\"{split} loss: {loss.item():.4f}\")\n",
    "\n",
    "print_overall_loss('train')\n",
    "print_overall_loss('dev')    "
   ]
  },
  {
   "cell_type": "code",
   "execution_count": null,
   "metadata": {},
   "outputs": [],
   "source": [
    "# sampling from model\n",
    "g = torch.Generator().manual_seed(2147483647 + 10) \n",
    "\n",
    "for i in range(10):\n",
    "    out = ''\n",
    "    context = [0] * block_size\n",
    "    while True:\n",
    "        x = torch.tensor([context])\n",
    "        x_emb = C[x]\n",
    "        h1 = x_emb.view(x_emb.shape[0],-1) @ W1 + B1\n",
    "        h = torch.tanh(h1)\n",
    "        logits = h @ W2 + B2\n",
    "        p = F.softmax(logits, dim=1)\n",
    "        # predicted_char = itos[p]\n",
    "        # out += predicted_char\n",
    "        # if p == 0:\n",
    "        #     print(f\"{i} : {out}\")\n",
    "        #     break\n",
    "        # context = context[1:] + [c]\n",
    "        \n",
    "    "
   ]
  },
  {
   "cell_type": "code",
   "execution_count": null,
   "metadata": {},
   "outputs": [],
   "source": []
  }
 ],
 "metadata": {
  "kernelspec": {
   "display_name": "zero_to_hero",
   "language": "python",
   "name": "python3"
  },
  "language_info": {
   "codemirror_mode": {
    "name": "ipython",
    "version": 3
   },
   "file_extension": ".py",
   "mimetype": "text/x-python",
   "name": "python",
   "nbconvert_exporter": "python",
   "pygments_lexer": "ipython3",
   "version": "3.13.1"
  }
 },
 "nbformat": 4,
 "nbformat_minor": 2
}
