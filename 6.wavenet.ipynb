{
 "cells": [
  {
   "cell_type": "code",
   "execution_count": 6,
   "metadata": {},
   "outputs": [],
   "source": [
    "import torch\n",
    "import torch.nn.functional as F\n",
    "import matplotlib.pyplot as plt # for making figures\n",
    "%matplotlib inline"
   ]
  },
  {
   "cell_type": "code",
   "execution_count": 7,
   "metadata": {},
   "outputs": [
    {
     "name": "stdout",
     "output_type": "stream",
     "text": [
      "32033\n",
      "15\n",
      "['emma', 'olivia', 'ava', 'isabella', 'sophia', 'charlotte', 'mia', 'amelia']\n"
     ]
    }
   ],
   "source": [
    "# read in all the words\n",
    "words = open('names.txt', 'r').read().splitlines()\n",
    "print(len(words))\n",
    "print(max(len(w) for w in words))\n",
    "print(words[:8])"
   ]
  },
  {
   "cell_type": "code",
   "execution_count": 8,
   "metadata": {},
   "outputs": [
    {
     "name": "stdout",
     "output_type": "stream",
     "text": [
      "{1: 'a', 2: 'b', 3: 'c', 4: 'd', 5: 'e', 6: 'f', 7: 'g', 8: 'h', 9: 'i', 10: 'j', 11: 'k', 12: 'l', 13: 'm', 14: 'n', 15: 'o', 16: 'p', 17: 'q', 18: 'r', 19: 's', 20: 't', 21: 'u', 22: 'v', 23: 'w', 24: 'x', 25: 'y', 26: 'z', 0: '.'}\n",
      "27\n"
     ]
    }
   ],
   "source": [
    "# build the vocabulary of characters and mappings to/from integers\n",
    "chars = sorted(list(set(''.join(words))))\n",
    "stoi = {s:i+1 for i,s in enumerate(chars)}\n",
    "stoi['.'] = 0\n",
    "itos = {i:s for s,i in stoi.items()}\n",
    "vocab_size = len(itos)\n",
    "print(itos)\n",
    "print(vocab_size)"
   ]
  },
  {
   "cell_type": "code",
   "execution_count": 9,
   "metadata": {},
   "outputs": [],
   "source": [
    "# shuffle up the words\n",
    "import random\n",
    "random.seed(42)\n",
    "random.shuffle(words)"
   ]
  },
  {
   "cell_type": "code",
   "execution_count": 79,
   "metadata": {},
   "outputs": [
    {
     "name": "stdout",
     "output_type": "stream",
     "text": [
      "torch.Size([182625, 8]) torch.Size([182625])\n",
      "torch.Size([22655, 8]) torch.Size([22655])\n",
      "torch.Size([22866, 8]) torch.Size([22866])\n"
     ]
    }
   ],
   "source": [
    "# build the dataset\n",
    "block_size = 8 # context length: how many characters do we take to predict the next one?\n",
    "\n",
    "def build_dataset(words):  \n",
    "  X, Y = [], []\n",
    "  \n",
    "  for w in words:\n",
    "    context = [0] * block_size\n",
    "    for ch in w + '.':\n",
    "      ix = stoi[ch]\n",
    "      X.append(context)\n",
    "      Y.append(ix)\n",
    "      context = context[1:] + [ix] # crop and append\n",
    "\n",
    "  X = torch.tensor(X)\n",
    "  Y = torch.tensor(Y)\n",
    "  print(X.shape, Y.shape)\n",
    "  return X, Y\n",
    "\n",
    "n1 = int(0.8*len(words))\n",
    "n2 = int(0.9*len(words))\n",
    "Xtr,  Ytr  = build_dataset(words[:n1])     # 80%\n",
    "Xdev, Ydev = build_dataset(words[n1:n2])   # 10%\n",
    "Xte,  Yte  = build_dataset(words[n2:])     # 10%"
   ]
  },
  {
   "cell_type": "code",
   "execution_count": 80,
   "metadata": {},
   "outputs": [
    {
     "name": "stdout",
     "output_type": "stream",
     "text": [
      "........ --> y\n",
      ".......y --> u\n",
      "......yu --> h\n",
      ".....yuh --> e\n",
      "....yuhe --> n\n",
      "...yuhen --> g\n",
      "..yuheng --> .\n",
      "........ --> d\n",
      ".......d --> i\n",
      "......di --> o\n",
      ".....dio --> n\n",
      "....dion --> d\n",
      "...diond --> r\n",
      "..diondr --> e\n",
      ".diondre --> .\n",
      "........ --> x\n",
      ".......x --> a\n",
      "......xa --> v\n",
      ".....xav --> i\n",
      "....xavi --> e\n"
     ]
    }
   ],
   "source": [
    "for x,y in zip(Xtr[:20], Ytr[:20]):\n",
    "  print(''.join(itos[ix.item()] for ix in x), '-->', itos[y.item()])"
   ]
  },
  {
   "cell_type": "code",
   "execution_count": 81,
   "metadata": {},
   "outputs": [],
   "source": [
    "torch.manual_seed(42)\n",
    "\n",
    "class Linear:\n",
    "    def __init__(self, fan_in, fan_out, bias=True):\n",
    "        self.weight = torch.randn((fan_in, fan_out)) / (fan_in**0.5)\n",
    "        self.bias = torch.zeros(fan_out) if bias else None\n",
    "        \n",
    "    def __call__(self, x):\n",
    "        self.out = x @ self.weight \n",
    "        if self.bias is not None:\n",
    "            self.out += self.bias \n",
    "        return self.out\n",
    "    \n",
    "    def parameters(self):\n",
    "        return [self.weight] + ([] if self.bias is None else [self.bias])\n",
    "    \n",
    "class BatchNorm1d:\n",
    "    def __init__(self, dim, eps=1e-5, momentum=0.1):\n",
    "        self.eps = eps\n",
    "        self.momentum = momentum\n",
    "        self.training = True\n",
    "\n",
    "        self.gamma = torch.ones(dim)\n",
    "        self.beta = torch.zeros(dim)\n",
    "        \n",
    "        self.running_mean = torch.zeros(dim)\n",
    "        self.running_var = torch.ones(dim)\n",
    "        \n",
    "    def __call__(self, x):\n",
    "        if self.training:\n",
    "            if x.ndim == 2:\n",
    "                dim = 0\n",
    "            elif x.ndim == 3:\n",
    "                dim = (0,1)\n",
    "            xmean = x.mean(dim, keepdim=True)\n",
    "            xvar = x.std(dim, keepdim=True)\n",
    "        else:\n",
    "            xmean = self.running_mean\n",
    "            xvar = self.running_var\n",
    "            \n",
    "        normalized_x = (x - xmean) / torch.sqrt(xvar + self.eps)\n",
    "        self.out = self.gamma * normalized_x + self.beta\n",
    "        \n",
    "        if self.training:\n",
    "            with torch.no_grad():\n",
    "                self.running_mean = self.momentum * self.running_mean + (1 - self.momentum) * xmean\n",
    "                self.running_var = self.momentum * self.running_var + (1 - self.momentum) * xvar\n",
    "        \n",
    "        return self.out\n",
    "    \n",
    "    def parameters(self):\n",
    "        return [self.gamma, self.beta]\n",
    "    \n",
    "class Tanh:\n",
    "    def __call__(self, x):\n",
    "        self.out = torch.tanh(x)\n",
    "        return self.out\n",
    "    \n",
    "    def parameters(self):\n",
    "        return []\n",
    "\n",
    "class Embedding:\n",
    "    def __init__(self, vocab_size, n_embd):\n",
    "        self.C = torch.randn((vocab_size, n_embd))\n",
    "        \n",
    "    def __call__(self, IX):\n",
    "        self.out = self.C[IX]\n",
    "        return self.out\n",
    "    \n",
    "    def parameters(self):\n",
    "        return [self.C]\n",
    "\n",
    "class FlattenConsecutive:\n",
    "    def __init__(self, group_of_n_chars):\n",
    "        self.n = group_of_n_chars\n",
    "        \n",
    "    def __call__(self, x):\n",
    "        B, C, emb_size = x.shape\n",
    "        x = x.view(B, C//self.n, self.n*emb_size)\n",
    "        if x.shape[1]==1:\n",
    "            x = x.squeeze(1)\n",
    "        self.out = x\n",
    "        return self.out\n",
    "    \n",
    "    def parameters(self):\n",
    "        return []\n",
    "    \n",
    "class Sequential:\n",
    "    def __init__(self, layers):\n",
    "        self.layers = layers\n",
    "        \n",
    "    def __call__(self, x):\n",
    "        for layer in self.layers:\n",
    "            x = layer(x)\n",
    "        self.out = x\n",
    "        return self.out\n",
    "    \n",
    "    def parameters(self):\n",
    "        return [p for layer in self.layers for p in layer.parameters()]\n",
    "        "
   ]
  },
  {
   "cell_type": "code",
   "execution_count": 82,
   "metadata": {},
   "outputs": [
    {
     "name": "stdout",
     "output_type": "stream",
     "text": [
      "Total number of parameters: 76579\n"
     ]
    }
   ],
   "source": [
    "n_embd = 24 # the dimensionality of the character embedding vectors\n",
    "n_hidden = 128 # the number of neurons in the hidden layer of the MLP\n",
    "chars_grouped_together = 2\n",
    "\n",
    "C = torch.randn((vocab_size, n_embd)) # the character embedding matrix\n",
    "model = Sequential([\n",
    "    Embedding(vocab_size, n_embd), \n",
    "    FlattenConsecutive(chars_grouped_together), Linear((n_embd * chars_grouped_together), n_hidden, bias=False), BatchNorm1d(n_hidden), Tanh(),     # first hidden layer\n",
    "    FlattenConsecutive(chars_grouped_together), Linear((n_hidden * chars_grouped_together), n_hidden, bias=False), BatchNorm1d(n_hidden), Tanh(),   # second hidden layer\n",
    "    FlattenConsecutive(chars_grouped_together), Linear((n_hidden * chars_grouped_together), n_hidden, bias=False), BatchNorm1d(n_hidden), Tanh(),   # third hidden layer\n",
    "    Linear(n_hidden, vocab_size)                                                        # the output layer of the MLP\n",
    "])        \n",
    "\n",
    "with torch.no_grad():\n",
    "    model.layers[-1].weight *= 0.1 # making last layer less confident at initialization\n",
    "\n",
    "parameters = model.parameters()\n",
    "print(f\"Total number of parameters: {sum(p.nelement() for p in parameters)}\") \n",
    "\n",
    "for p in parameters:\n",
    "    p.requires_grad = True"
   ]
  },
  {
   "cell_type": "code",
   "execution_count": 83,
   "metadata": {},
   "outputs": [
    {
     "name": "stdout",
     "output_type": "stream",
     "text": [
      "      0/ 200000:  3.2956\n",
      "  10000/ 200000:  1.4400\n",
      "  20000/ 200000:  1.9523\n",
      "  30000/ 200000:  2.0583\n",
      "  40000/ 200000:  1.5619\n",
      "  50000/ 200000:  1.9991\n",
      "  60000/ 200000:  1.8596\n",
      "  70000/ 200000:  1.7440\n",
      "  80000/ 200000:  2.1511\n",
      "  90000/ 200000:  1.5004\n",
      " 100000/ 200000:  1.9331\n",
      " 110000/ 200000:  1.6963\n",
      " 120000/ 200000:  2.1730\n",
      " 130000/ 200000:  2.0818\n",
      " 140000/ 200000:  1.8729\n",
      " 150000/ 200000:  1.9114\n",
      " 160000/ 200000:  1.5779\n",
      " 170000/ 200000:  1.6249\n",
      " 180000/ 200000:  1.5197\n",
      " 190000/ 200000:  1.6329\n"
     ]
    }
   ],
   "source": [
    "steps=200000\n",
    "batch_size=32\n",
    "lossi = []\n",
    "\n",
    "for i in range(steps):\n",
    "    ix = torch.randint(0, Xtr.shape[0], (batch_size,))\n",
    "    xb, yb = Xtr[ix], Ytr[ix]\n",
    "    \n",
    "    # forward pass\n",
    "    logits = model(xb)\n",
    "    \n",
    "    loss = F.cross_entropy(logits, yb)\n",
    "    \n",
    "    # backward pass\n",
    "    for p in parameters:\n",
    "        p.grad = None\n",
    "    loss.backward()\n",
    "    \n",
    "    # gradient descent\n",
    "    lr = 0.1 if i < 150000 else 0.01\n",
    "    for p in parameters:\n",
    "        p.data += -lr * p.grad \n",
    "        \n",
    "    # stats\n",
    "    lossi.append(loss.log10().item())\n",
    "    if i % 10000 == 0:\n",
    "        print(f\"{i:7d}/{steps:7d}:  {loss.item():.4f}\")\n",
    "    \n",
    "    # break"
   ]
  },
  {
   "cell_type": "code",
   "execution_count": 66,
   "metadata": {},
   "outputs": [
    {
     "name": "stdout",
     "output_type": "stream",
     "text": [
      "for layer: Embedding output shape is: torch.Size([32, 8, 10])\n",
      "for layer: FlattenConsecutive output shape is: torch.Size([32, 4, 20])\n",
      "for layer: Linear output shape is: torch.Size([32, 4, 68])\n",
      "for layer: BatchNorm1d output shape is: torch.Size([32, 4, 68])\n",
      "for layer: Tanh output shape is: torch.Size([32, 4, 68])\n",
      "for layer: FlattenConsecutive output shape is: torch.Size([32, 2, 136])\n",
      "for layer: Linear output shape is: torch.Size([32, 2, 68])\n",
      "for layer: BatchNorm1d output shape is: torch.Size([32, 2, 68])\n",
      "for layer: Tanh output shape is: torch.Size([32, 2, 68])\n",
      "for layer: FlattenConsecutive output shape is: torch.Size([32, 136])\n",
      "for layer: Linear output shape is: torch.Size([32, 68])\n",
      "for layer: BatchNorm1d output shape is: torch.Size([32, 68])\n",
      "for layer: Tanh output shape is: torch.Size([32, 68])\n",
      "for layer: Linear output shape is: torch.Size([32, 27])\n"
     ]
    }
   ],
   "source": [
    "for layer in model.layers:\n",
    "    print(f\"for layer: {layer.__class__.__name__} output shape is: {layer.out.shape}\")"
   ]
  },
  {
   "cell_type": "code",
   "execution_count": 84,
   "metadata": {},
   "outputs": [
    {
     "data": {
      "text/plain": [
       "[<matplotlib.lines.Line2D at 0x7f40c4a7f4d0>]"
      ]
     },
     "execution_count": 84,
     "metadata": {},
     "output_type": "execute_result"
    },
    {
     "data": {
      "image/png": "[encoded data removed]",
      "text/plain": [
       "<Figure size 640x480 with 1 Axes>"
      ]
     },
     "metadata": {},
     "output_type": "display_data"
    }
   ],
   "source": [
    "# raw lossi plot. reading vary a lot due to small batch size\n",
    "plt.plot(lossi)"
   ]
  },
  {
   "cell_type": "code",
   "execution_count": 85,
   "metadata": {},
   "outputs": [
    {
     "data": {
      "text/plain": [
       "[<matplotlib.lines.Line2D at 0x7f40c4d0a990>]"
      ]
     },
     "execution_count": 85,
     "metadata": {},
     "output_type": "execute_result"
    },
    {
     "data": {
      "image/png": "[encoded data removed]",
      "text/plain": [
       "<Figure size 640x480 with 1 Axes>"
      ]
     },
     "metadata": {},
     "output_type": "display_data"
    }
   ],
   "source": [
    "# ploting mean loss for every 1000 steps by converting lossi list into tensor and reshaping to view 1000 steps loss in each row and taking its mean\n",
    "plt.plot(torch.tensor(lossi).view(-1,1000).mean(1)) "
   ]
  },
  {
   "cell_type": "code",
   "execution_count": 86,
   "metadata": {},
   "outputs": [],
   "source": [
    "# eval mode\n",
    "for layer in model.layers:\n",
    "    layer.training = False"
   ]
  },
  {
   "cell_type": "code",
   "execution_count": 87,
   "metadata": {},
   "outputs": [
    {
     "name": "stdout",
     "output_type": "stream",
     "text": [
      "train loss: 1.7998\n",
      "dev loss: 2.0246\n"
     ]
    }
   ],
   "source": [
    "# calculating training and val loss\n",
    "\n",
    "torch.no_grad()\n",
    "def print_overall_loss(split):\n",
    "    x , y = {'train':(Xtr, Ytr), 'dev':(Xdev, Ydev), 'test':(Xte, Yte)}[split]\n",
    "    logits = model(x)\n",
    "    loss = F.cross_entropy(logits, y)\n",
    "    print(f\"{split} loss: {loss.item():.4f}\")\n",
    "\n",
    "print_overall_loss('train')\n",
    "print_overall_loss('dev')    "
   ]
  },
  {
   "cell_type": "code",
   "execution_count": 88,
   "metadata": {},
   "outputs": [
    {
     "name": "stdout",
     "output_type": "stream",
     "text": [
      "0 : kelsan.\n",
      "1 : zaharian.\n",
      "2 : arriston.\n",
      "3 : jahce.\n",
      "4 : cyrey.\n",
      "5 : dane.\n",
      "6 : tanyla.\n",
      "7 : bretin.\n",
      "8 : kakiya.\n",
      "9 : savina.\n"
     ]
    }
   ],
   "source": [
    "# generating samples\n",
    "\n",
    "for i in range(10):\n",
    "    out = ''\n",
    "    context = [0] * block_size\n",
    "    while True:\n",
    "        x = torch.tensor([context])\n",
    "        logits = model(x)\n",
    "        probs = F.softmax(logits, dim=1)\n",
    "        ix = torch.multinomial(probs, 1).item()\n",
    "        out += itos[ix]\n",
    "        context = context[1:] + [ix]\n",
    "        if ix == 0:\n",
    "            print(f\"{i} : {out}\")\n",
    "            break\n",
    "        "
   ]
  },
  {
   "cell_type": "code",
   "execution_count": null,
   "metadata": {},
   "outputs": [],
   "source": [
    "# baseline:\n",
    "# train loss: 2.0804\n",
    "# dev loss: 2.1296\n",
    "\n",
    "# wavenet 22k params with batchnorm fixed:\n",
    "# train loss: 1.9414\n",
    "# dev loss: 2.0557\n",
    "\n",
    "# optim wavenet:\n",
    "train loss: 1.7998\n",
    "dev loss: 2.0246"
   ]
  }
 ],
 "metadata": {
  "kernelspec": {
   "display_name": "zero_to_hero",
   "language": "python",
   "name": "python3"
  },
  "language_info": {
   "codemirror_mode": {
    "name": "ipython",
    "version": 3
   },
   "file_extension": ".py",
   "mimetype": "text/x-python",
   "name": "python",
   "nbconvert_exporter": "python",
   "pygments_lexer": "ipython3",
   "version": "3.13.1"
  }
 },
 "nbformat": 4,
 "nbformat_minor": 2
}
